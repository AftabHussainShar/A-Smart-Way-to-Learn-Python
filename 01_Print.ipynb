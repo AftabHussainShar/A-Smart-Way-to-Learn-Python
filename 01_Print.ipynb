{
 "cells": [
  {
   "cell_type": "code",
   "execution_count": 2,
   "id": "633b2f5a",
   "metadata": {},
   "outputs": [
    {
     "name": "stdout",
     "output_type": "stream",
     "text": [
      "Aftab Hussain\n"
     ]
    }
   ],
   "source": [
    "print(\"Aftab Hussain\")"
   ]
  },
  {
   "cell_type": "code",
   "execution_count": 3,
   "id": "6ae89e91",
   "metadata": {},
   "outputs": [
    {
     "name": "stdout",
     "output_type": "stream",
     "text": [
      "Hello, World!\n"
     ]
    }
   ],
   "source": [
    "print ( \"Hello, World!\" )\n"
   ]
  },
  {
   "cell_type": "markdown",
   "id": "611bca8b",
   "metadata": {},
   "source": [
    "What keyword tells Python to display something on the screen?   Ans:print"
   ]
  },
  {
   "cell_type": "markdown",
   "id": "ea44f9b5",
   "metadata": {},
   "source": [
    "Tell Python to display the letter \"e\".     Ans: print(\"e\")"
   ]
  },
  {
   "cell_type": "markdown",
   "id": "b939d220",
   "metadata": {},
   "source": [
    "Tell Python to display the name of our planet. (1 word, lower-case)   Ans: print(\"earth\")"
   ]
  },
  {
   "cell_type": "markdown",
   "id": "4216ba30",
   "metadata": {},
   "source": [
    "Tell Python to display the name of the star that makes life possible on earth. (1 word, lower-case) Ans: print(\"sun\")"
   ]
  },
  {
   "cell_type": "markdown",
   "id": "8a5dd482",
   "metadata": {},
   "source": [
    "In a print statement, the characters surrounded by quotation marks are a text _______.  Ans:string"
   ]
  },
  {
   "cell_type": "markdown",
   "id": "a6d459d6",
   "metadata": {},
   "source": [
    "Tell Python to display the first three letters of the alphabet in upper-case.  Ans: print(\"A\",\"B\",\"C\")"
   ]
  },
  {
   "cell_type": "markdown",
   "id": "625a3d18",
   "metadata": {},
   "source": [
    "Tell Python to display a string of your choice   Ans: print(\"whatever\")"
   ]
  },
  {
   "cell_type": "markdown",
   "id": "7679efbb",
   "metadata": {},
   "source": [
    "Tell Python to display your first name  Ans: print(\"Aftab\")"
   ]
  },
  {
   "cell_type": "markdown",
   "id": "b0aef185",
   "metadata": {},
   "source": [
    "Tell Python to display the three-letter word for a canine. (1 word, lower-case)  Ans:print(\"dog\")"
   ]
  },
  {
   "cell_type": "code",
   "execution_count": null,
   "id": "2e1ba675",
   "metadata": {},
   "outputs": [],
   "source": []
  }
 ],
 "metadata": {
  "kernelspec": {
   "display_name": "Python 3 (ipykernel)",
   "language": "python",
   "name": "python3"
  },
  "language_info": {
   "codemirror_mode": {
    "name": "ipython",
    "version": 3
   },
   "file_extension": ".py",
   "mimetype": "text/x-python",
   "name": "python",
   "nbconvert_exporter": "python",
   "pygments_lexer": "ipython3",
   "version": "3.11.2"
  }
 },
 "nbformat": 4,
 "nbformat_minor": 5
}
