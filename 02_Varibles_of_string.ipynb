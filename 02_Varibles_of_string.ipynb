{
 "cells": [
  {
   "cell_type": "code",
   "execution_count": 1,
   "id": "87c0315a",
   "metadata": {},
   "outputs": [],
   "source": [
    "name = \"Aftab Hussain\""
   ]
  },
  {
   "cell_type": "code",
   "execution_count": 2,
   "id": "4c420ad5",
   "metadata": {},
   "outputs": [
    {
     "name": "stdout",
     "output_type": "stream",
     "text": [
      "Aftab Hussain\n"
     ]
    }
   ],
   "source": [
    "print(name)"
   ]
  },
  {
   "cell_type": "code",
   "execution_count": 3,
   "id": "365f44e0",
   "metadata": {},
   "outputs": [],
   "source": [
    "lesson_author = \"Aftab\"\n",
    "guy_who_keeps_saying_his_own_name = \"Aftab\"\n",
    "x = \"Aftab\""
   ]
  },
  {
   "cell_type": "code",
   "execution_count": 4,
   "id": "ebcc1477",
   "metadata": {},
   "outputs": [
    {
     "name": "stdout",
     "output_type": "stream",
     "text": [
      "Aftab\n",
      "Aftab\n",
      "Aftab\n"
     ]
    }
   ],
   "source": [
    "print(lesson_author)\n",
    "print(guy_who_keeps_saying_his_own_name)\n",
    "print(x)"
   ]
  },
  {
   "cell_type": "markdown",
   "id": "8243106e",
   "metadata": {},
   "source": [
    "Because of the quotation marks, Python identifies the greeting below as a _______ (1 word, lowercase)  Ans:String"
   ]
  },
  {
   "cell_type": "markdown",
   "id": "46e8fd6d",
   "metadata": {},
   "source": [
    "Because there are no quotation marks, Python identifies the set of characters below as a _______.   Ans: variable"
   ]
  },
  {
   "cell_type": "markdown",
   "id": "cf8e24cc",
   "metadata": {},
   "source": [
    "Assign the string \"Boo!\" to the variable scare. Ans:scare = \"Boo!\""
   ]
  },
  {
   "cell_type": "markdown",
   "id": "eb41fa42",
   "metadata": {},
   "source": [
    "Assign the string \"jay\" to the variable bird.   Ans: bird = \"jay\""
   ]
  },
  {
   "cell_type": "markdown",
   "id": "3f485b72",
   "metadata": {},
   "source": [
    "Assign your first name to a variable. You choose the variable name.  Ans:name = \"Aftab\""
   ]
  },
  {
   "cell_type": "markdown",
   "id": "e51bcf28",
   "metadata": {},
   "source": [
    "Assign a string to a variable. You choose the variable name and the string. Ans:x=\"Aftab hussain\""
   ]
  },
  {
   "cell_type": "markdown",
   "id": "e0c9414f",
   "metadata": {},
   "source": [
    "In the statement below, I assign a string to a variable. Using the variable, write the statement that displays the string on the screen.\n",
    "my_name = \"Mark\" print(my_name)"
   ]
  },
  {
   "cell_type": "markdown",
   "id": "dcfee07f",
   "metadata": {},
   "source": [
    "Assign a string to a variable. You choose the variable name and the string. Using the variable, write a statement that displays the string on the screen.  Ans: \n",
    "name=\"Aftab\"\n",
    "print(name)"
   ]
  },
  {
   "cell_type": "markdown",
   "id": "333efcca",
   "metadata": {},
   "source": [
    "Revise this variable name as the Python governing body recommends.\n",
    "countryoforigin   Ans: country_of_origin"
   ]
  },
  {
   "cell_type": "markdown",
   "id": "1807d5f6",
   "metadata": {},
   "source": [
    "Assign the string \"Hi\" to the variable greeting Ans: greeting = \"Hi\""
   ]
  },
  {
   "cell_type": "code",
   "execution_count": null,
   "id": "149e4409",
   "metadata": {},
   "outputs": [],
   "source": []
  }
 ],
 "metadata": {
  "kernelspec": {
   "display_name": "Python 3 (ipykernel)",
   "language": "python",
   "name": "python3"
  },
  "language_info": {
   "codemirror_mode": {
    "name": "ipython",
    "version": 3
   },
   "file_extension": ".py",
   "mimetype": "text/x-python",
   "name": "python",
   "nbconvert_exporter": "python",
   "pygments_lexer": "ipython3",
   "version": "3.11.2"
  }
 },
 "nbformat": 4,
 "nbformat_minor": 5
}
