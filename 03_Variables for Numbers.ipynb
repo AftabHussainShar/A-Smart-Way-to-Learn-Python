{
 "cells": [
  {
   "cell_type": "code",
   "execution_count": 1,
   "id": "0eaa84b1",
   "metadata": {},
   "outputs": [],
   "source": [
    "weight = 150"
   ]
  },
  {
   "cell_type": "code",
   "execution_count": 2,
   "id": "2cae53a3",
   "metadata": {},
   "outputs": [
    {
     "name": "stdout",
     "output_type": "stream",
     "text": [
      "150\n"
     ]
    }
   ],
   "source": [
    "print(weight)"
   ]
  },
  {
   "cell_type": "code",
   "execution_count": 3,
   "id": "c51c15a8",
   "metadata": {},
   "outputs": [
    {
     "data": {
      "text/plain": [
       "162"
      ]
     },
     "execution_count": 3,
     "metadata": {},
     "output_type": "execute_result"
    }
   ],
   "source": [
    "weight+12"
   ]
  },
  {
   "cell_type": "code",
   "execution_count": 4,
   "id": "8f293652",
   "metadata": {},
   "outputs": [
    {
     "name": "stdout",
     "output_type": "stream",
     "text": [
      "150\n"
     ]
    }
   ],
   "source": [
    "print(weight)"
   ]
  },
  {
   "cell_type": "code",
   "execution_count": 5,
   "id": "ae83603c",
   "metadata": {},
   "outputs": [],
   "source": [
    "original_num = 23\n",
    "new_num = original_num + 7"
   ]
  },
  {
   "cell_type": "code",
   "execution_count": 6,
   "id": "81ad88fb",
   "metadata": {},
   "outputs": [
    {
     "name": "stdout",
     "output_type": "stream",
     "text": [
      "30\n"
     ]
    }
   ],
   "source": [
    "print(new_num)"
   ]
  },
  {
   "cell_type": "code",
   "execution_count": 7,
   "id": "f8758e7a",
   "metadata": {},
   "outputs": [
    {
     "ename": "IndentationError",
     "evalue": "unexpected indent (451617754.py, line 2)",
     "output_type": "error",
     "traceback": [
      "\u001b[1;36m  Cell \u001b[1;32mIn[7], line 2\u001b[1;36m\u001b[0m\n\u001b[1;33m    new_num = original_num + 7\u001b[0m\n\u001b[1;37m    ^\u001b[0m\n\u001b[1;31mIndentationError\u001b[0m\u001b[1;31m:\u001b[0m unexpected indent\n"
     ]
    }
   ],
   "source": [
    "original_num = \"23\"\n",
    "new_num = original_num + 7"
   ]
  },
  {
   "cell_type": "code",
   "execution_count": 8,
   "id": "1ad0ebc5",
   "metadata": {},
   "outputs": [
    {
     "ename": "SyntaxError",
     "evalue": "invalid decimal literal (3159791295.py, line 1)",
     "output_type": "error",
     "traceback": [
      "\u001b[1;36m  Cell \u001b[1;32mIn[8], line 1\u001b[1;36m\u001b[0m\n\u001b[1;33m    1st_prime_number = 2\u001b[0m\n\u001b[1;37m    ^\u001b[0m\n\u001b[1;31mSyntaxError\u001b[0m\u001b[1;31m:\u001b[0m invalid decimal literal\n"
     ]
    }
   ],
   "source": [
    "1st_prime_number = 2"
   ]
  },
  {
   "cell_type": "markdown",
   "id": "a777018e",
   "metadata": {},
   "source": [
    "There are two correct answers for this one. Answer with either one. What is this?\n",
    "100  Ans: Number"
   ]
  },
  {
   "cell_type": "markdown",
   "id": "c88a36ae",
   "metadata": {},
   "source": [
    "Type the illegal character in this variable name.\n",
    "2nd_runner_up  Ans: 2"
   ]
  },
  {
   "cell_type": "markdown",
   "id": "dbec8a80",
   "metadata": {},
   "source": [
    "Assign the number 5 to the variable players Ans: players=5"
   ]
  },
  {
   "cell_type": "markdown",
   "id": "f9d700e1",
   "metadata": {},
   "source": [
    "Assign the negative number -6 to the variable loss  Ans: loss = -6"
   ]
  },
  {
   "cell_type": "markdown",
   "id": "3cbba7ea",
   "metadata": {},
   "source": [
    "What is the value of total?\n",
    "number = 10\n",
    "total = number + 2  Ans: 12"
   ]
  },
  {
   "cell_type": "markdown",
   "id": "2699291c",
   "metadata": {},
   "source": [
    "Assign a number (your choice) to the variable total.   Ans: total = 786"
   ]
  },
  {
   "cell_type": "markdown",
   "id": "b4877651",
   "metadata": {},
   "source": [
    "Assign a negative integer to a variable. You choose the integer and the variable name. Ans: no = -7"
   ]
  },
  {
   "cell_type": "markdown",
   "id": "faa40059",
   "metadata": {},
   "source": [
    "What is this (one word, lowercase)?\n",
    "\"-8.087\" Ans : string"
   ]
  },
  {
   "cell_type": "markdown",
   "id": "9c9a6aea",
   "metadata": {},
   "source": [
    "Add two variables and assign the result to a third variable. Make up all the variable names. \n",
    "Ans: \n",
    "total = 5\n",
    "profit = 3\n",
    "total = total + profit\n",
    "print(total)"
   ]
  },
  {
   "cell_type": "markdown",
   "id": "f0bcb9f1",
   "metadata": {},
   "source": [
    "Add 5 to the variable running_total and assign the result to the same variable  Ans : running_total= running_total+5"
   ]
  },
  {
   "cell_type": "code",
   "execution_count": null,
   "id": "37b49fd6",
   "metadata": {},
   "outputs": [],
   "source": []
  }
 ],
 "metadata": {
  "kernelspec": {
   "display_name": "Python 3 (ipykernel)",
   "language": "python",
   "name": "python3"
  },
  "language_info": {
   "codemirror_mode": {
    "name": "ipython",
    "version": 3
   },
   "file_extension": ".py",
   "mimetype": "text/x-python",
   "name": "python",
   "nbconvert_exporter": "python",
   "pygments_lexer": "ipython3",
   "version": "3.11.2"
  }
 },
 "nbformat": 4,
 "nbformat_minor": 5
}
